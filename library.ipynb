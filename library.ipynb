{
 "cells": [
  {
   "cell_type": "code",
   "execution_count": 29,
   "metadata": {},
   "outputs": [],
   "source": [
    "import math"
   ]
  },
  {
   "cell_type": "code",
   "execution_count": 30,
   "metadata": {},
   "outputs": [
    {
     "name": "stdout",
     "output_type": "stream",
     "text": [
      "5.0\n",
      "8.0\n"
     ]
    }
   ],
   "source": [
    "print(math.sqrt(25))\n",
    "print(math.pow(2,3))"
   ]
  },
  {
   "cell_type": "code",
   "execution_count": 31,
   "metadata": {},
   "outputs": [
    {
     "name": "stdout",
     "output_type": "stream",
     "text": [
      "120\n"
     ]
    }
   ],
   "source": [
    "print(math.factorial(5))"
   ]
  },
  {
   "cell_type": "code",
   "execution_count": 32,
   "metadata": {},
   "outputs": [
    {
     "name": "stdout",
     "output_type": "stream",
     "text": [
      "0.8414709848078965\n"
     ]
    }
   ],
   "source": [
    "print(math.sin(1))"
   ]
  },
  {
   "cell_type": "code",
   "execution_count": 33,
   "metadata": {},
   "outputs": [
    {
     "name": "stdout",
     "output_type": "stream",
     "text": [
      "1.0\n"
     ]
    }
   ],
   "source": [
    "print(math.cos(0))"
   ]
  },
  {
   "cell_type": "code",
   "execution_count": 34,
   "metadata": {},
   "outputs": [
    {
     "name": "stdout",
     "output_type": "stream",
     "text": [
      "-0.1425465430742778\n",
      "4\n",
      "24\n",
      "3.141592653589793\n"
     ]
    }
   ],
   "source": [
    "print(math.tan(3))\n",
    "print(math.gcd(12,8))\n",
    "print(math.lcm(12,8))\n",
    "print(math.pi)"
   ]
  },
  {
   "cell_type": "code",
   "execution_count": 52,
   "metadata": {},
   "outputs": [
    {
     "name": "stdout",
     "output_type": "stream",
     "text": [
      "get a random number between 0 and 1: 0.21954181099775993\n",
      "get a random number between 1 and 100: 0.590984367105915\n",
      "get a random element from a list: 4\n",
      "shuffle a list: ['David', 'Eve', 'Alice', 'Bob', 'charlie']\n"
     ]
    }
   ],
   "source": [
    "from random import random, randint, choice, shuffle\n",
    "print('get a random number between 0 and 1:', random())\n",
    "print('get a random number between 1 and 100:', random())\n",
    "print('get a random element from a list:', choice([1,2,3,4,5]))\n",
    "names = ['Alice','Bob','charlie', 'David', 'Eve']\n",
    "shuffle(names)\n",
    "print('shuffle a list:', names)"
   ]
  },
  {
   "cell_type": "code",
   "execution_count": 59,
   "metadata": {},
   "outputs": [],
   "source": [
    "from datetime import datetime as dt"
   ]
  },
  {
   "cell_type": "code",
   "execution_count": 62,
   "metadata": {},
   "outputs": [
    {
     "name": "stdout",
     "output_type": "stream",
     "text": [
      "Current date and time: 2025-02-05 17:27:11.318880\n",
      "Current month: 2\n",
      "Current day: 5\n",
      "Current hour 17\n",
      "Current minute: 27\n",
      "Current second: 11\n"
     ]
    }
   ],
   "source": [
    "print(\"Current date and time:\", dt.now())\n",
    "print(\"Current month:\", dt.now().month)\n",
    "print(\"Current day:\", dt.now().day)\n",
    "print(\"Current hour\", dt.now().hour)\n",
    "print(\"Current minute:\", dt.now().minute)\n",
    "print(\"Current second:\", dt.now().second)"
   ]
  }
 ],
 "metadata": {
  "kernelspec": {
   "display_name": "base",
   "language": "python",
   "name": "python3"
  },
  "language_info": {
   "codemirror_mode": {
    "name": "ipython",
    "version": 3
   },
   "file_extension": ".py",
   "mimetype": "text/x-python",
   "name": "python",
   "nbconvert_exporter": "python",
   "pygments_lexer": "ipython3",
   "version": "3.12.3"
  }
 },
 "nbformat": 4,
 "nbformat_minor": 2
}
